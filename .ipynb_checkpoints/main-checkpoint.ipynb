{
 "cells": [
  {
   "cell_type": "code",
   "execution_count": 2,
   "id": "ecd0f2ac-ed8e-4f40-ad44-1bac23c430c5",
   "metadata": {},
   "outputs": [],
   "source": [
    "# Imports\n",
    "import numpy as np\n",
    "import pandas as pd\n",
    "\n",
    "import langchain\n",
    "import torch\n",
    "\n",
    "import huggingface_hub\n",
    "\n",
    "# Data Viz\n",
    "import matplotlib.pyplot as plt"
   ]
  },
  {
   "cell_type": "code",
   "execution_count": 14,
   "id": "8e64d694-d9ba-4dc5-8ea6-e1455854055d",
   "metadata": {},
   "outputs": [
    {
     "data": {
      "text/plain": [
       "'0.0.190'"
      ]
     },
     "execution_count": 14,
     "metadata": {},
     "output_type": "execute_result"
    }
   ],
   "source": [
    "langchain.__version__"
   ]
  },
  {
   "cell_type": "code",
   "execution_count": 13,
   "id": "a04fede3-3c5a-481f-918c-0d7fede152a6",
   "metadata": {},
   "outputs": [
    {
     "ename": "ImportError",
     "evalue": "cannot import name 'FewShotChatMessagePromptTemplate' from 'langchain.prompts' (/home/monos/micromamba/envs/langchain_env/lib/python3.11/site-packages/langchain/prompts/__init__.py)",
     "output_type": "error",
     "traceback": [
      "\u001b[0;31m---------------------------------------------------------------------------\u001b[0m",
      "\u001b[0;31mImportError\u001b[0m                               Traceback (most recent call last)",
      "Cell \u001b[0;32mIn[13], line 2\u001b[0m\n\u001b[1;32m      1\u001b[0m \u001b[38;5;66;03m# More imports\u001b[39;00m\n\u001b[0;32m----> 2\u001b[0m \u001b[38;5;28;01mfrom\u001b[39;00m \u001b[38;5;21;01mlangchain\u001b[39;00m\u001b[38;5;21;01m.\u001b[39;00m\u001b[38;5;21;01mprompts\u001b[39;00m \u001b[38;5;28;01mimport\u001b[39;00m ChatPromptTemplate, FewShotChatMessagePromptTemplate\n\u001b[1;32m      3\u001b[0m \u001b[38;5;28;01mfrom\u001b[39;00m \u001b[38;5;21;01mprompts\u001b[39;00m\u001b[38;5;21;01m.\u001b[39;00m\u001b[38;5;21;01mprompt_engineering\u001b[39;00m \u001b[38;5;28;01mimport\u001b[39;00m ChatIO\n",
      "\u001b[0;31mImportError\u001b[0m: cannot import name 'FewShotChatMessagePromptTemplate' from 'langchain.prompts' (/home/monos/micromamba/envs/langchain_env/lib/python3.11/site-packages/langchain/prompts/__init__.py)"
     ]
    }
   ],
   "source": [
    "# More imports\n",
    "from langchain.prompts import ChatPromptTemplate, FewShotChatMessagePromptTemplate\n",
    "from prompts.prompt_engineering import ChatIO"
   ]
  },
  {
   "cell_type": "markdown",
   "id": "3b054229-d7e2-4317-8714-1a03e587a39a",
   "metadata": {},
   "source": [
    "# Chain: Fix Typos -> Group the obvious (extraction) -> Reformat into meaningful standardized format"
   ]
  },
  {
   "cell_type": "markdown",
   "id": "96229915-1415-4978-afe4-02fe71afc969",
   "metadata": {},
   "source": [
    "## Fix Typos"
   ]
  },
  {
   "cell_type": "code",
   "execution_count": 12,
   "id": "28f01879-f99f-40b7-b800-a0b8036c82a0",
   "metadata": {},
   "outputs": [
    {
     "ename": "SyntaxError",
     "evalue": "unterminated string literal (detected at line 20) (1246795720.py, line 20)",
     "output_type": "error",
     "traceback": [
      "\u001b[0;36m  Cell \u001b[0;32mIn[12], line 20\u001b[0;36m\u001b[0m\n\u001b[0;31m    {\"}\u001b[0m\n\u001b[0m     ^\u001b[0m\n\u001b[0;31mSyntaxError\u001b[0m\u001b[0;31m:\u001b[0m unterminated string literal (detected at line 20)\n"
     ]
    }
   ],
   "source": [
    "# Given: list of strings that are unique, like with pd.unique()\n",
    "# Assume they are of a common case (upper or lower; doesn't really matter)\n",
    "import prompts.typofix as typofix\n",
    "\n",
    "\n",
    "# Incorporate Few-Shot Learning into prompt\n",
    "example_fewshot_prompt = ChatPromptTemplate.from_messages([\n",
    "    (\"human\", \"{input}\"),\n",
    "    (\"ai\", \"{output}\")\n",
    "])\n",
    "\n",
    "typofix_fewshot_examples = ChatIO.make_chat(typofix.FEW_SHOT_EXAMPLES, input_name=\"input\", output_name=\"output\")\n",
    "typofix_fewshot_prompt = FewShotChatMessagePromptTemplate(example_prompt=example_fewshot_prompt, examples=typofix_fewshot_examples)\n",
    "\n",
    "# Final Chat Prompt\n",
    "typofix_chat_prompt = ChatPromptTemplate.from_messages([\n",
    "    (\"system\", typofix.SYSPROMPT_TEMPLATE),\n",
    "    typofix_fewshot_prompt,\n",
    "    (\"human\", \"{input}\")\n",
    "])\n",
    "\n",
    "# Chain\n",
    "chain_typofixer = typofix_chat_prompt | ChatAnthropic()"
   ]
  },
  {
   "cell_type": "markdown",
   "id": "b2b3a23d-535b-4c4b-9512-3dbcf914cdaa",
   "metadata": {},
   "source": [
    "## Group the obvious (extraction/chunking)"
   ]
  },
  {
   "cell_type": "code",
   "execution_count": null,
   "id": "1396f66d-068b-4ca3-ac2a-e70a8dd26e12",
   "metadata": {},
   "outputs": [],
   "source": [
    "import prompts.chunker as chunker\n",
    "\n",
    "\n",
    "# Incorporate Few-Shot Learning into prompt\n",
    "example_fewshot_prompt = ChatPromptTemplate.from_messages([\n",
    "    (\"human\", \"{input}\"),\n",
    "    (\"ai\", \"{output}\")\n",
    "])\n",
    "\n",
    "chunker_fewshot_examples = ChatIO.make_chat(chunker.FEW_SHOT_EXAMPLES, input_name=\"input\", output_name=\"output\")\n",
    "chunker_fewshot_prompt = FewShotChatMessagePromptTemplate(example_prompt=example_fewshot_prompt, examples=chunker_fewshot_examples)\n",
    "\n",
    "# Final Chat Prompt\n",
    "chunker_chat_prompt = ChatPromptTemplate.from_messages([\n",
    "    (\"system\", chunker.SYSPROMPT_TEMPLATE),\n",
    "    chunker_fewshot_examples,\n",
    "    (\"human\", \"{input}\")\n",
    "])\n",
    "\n",
    "# Chain\n",
    "chain_chunker = chunker_chat_prompt | ChatAnthropic()"
   ]
  },
  {
   "cell_type": "markdown",
   "id": "0c304ad8-d565-4c93-9ad8-630296c06579",
   "metadata": {},
   "source": [
    "## Reformat into meaningful standardized format"
   ]
  },
  {
   "cell_type": "code",
   "execution_count": null,
   "id": "43b5a233-8dd3-4333-8e00-be7bc1714871",
   "metadata": {},
   "outputs": [],
   "source": [
    "import prompts.standardizer as stdzer\n",
    "\n",
    "\n",
    "#"
   ]
  }
 ],
 "metadata": {
  "kernelspec": {
   "display_name": "Python 3 (ipykernel)",
   "language": "python",
   "name": "python3"
  },
  "language_info": {
   "codemirror_mode": {
    "name": "ipython",
    "version": 3
   },
   "file_extension": ".py",
   "mimetype": "text/x-python",
   "name": "python",
   "nbconvert_exporter": "python",
   "pygments_lexer": "ipython3",
   "version": "3.11.5"
  }
 },
 "nbformat": 4,
 "nbformat_minor": 5
}
