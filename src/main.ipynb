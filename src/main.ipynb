{
 "cells": [
  {
   "cell_type": "code",
   "execution_count": 1,
   "id": "ecd0f2ac-ed8e-4f40-ad44-1bac23c430c5",
   "metadata": {},
   "outputs": [],
   "source": [
    "# Imports\n",
    "import numpy as np\n",
    "import pandas as pd\n",
    "\n",
    "import langchain\n",
    "import torch\n",
    "\n",
    "import huggingface_hub\n",
    "\n",
    "# Data Viz\n",
    "import matplotlib.pyplot as plt"
   ]
  },
  {
   "cell_type": "code",
   "execution_count": 2,
   "id": "8e64d694-d9ba-4dc5-8ea6-e1455854055d",
   "metadata": {},
   "outputs": [
    {
     "data": {
      "text/plain": [
       "'0.0.298'"
      ]
     },
     "execution_count": 2,
     "metadata": {},
     "output_type": "execute_result"
    }
   ],
   "source": [
    "langchain.__version__"
   ]
  },
  {
   "cell_type": "code",
   "execution_count": 3,
   "id": "a04fede3-3c5a-481f-918c-0d7fede152a6",
   "metadata": {},
   "outputs": [],
   "source": [
    "# More imports\n",
    "from langchain.prompts import ChatPromptTemplate, FewShotChatMessagePromptTemplate\n",
    "from prompts.prompt_engineering import ChatIO"
   ]
  },
  {
   "cell_type": "markdown",
   "id": "3b054229-d7e2-4317-8714-1a03e587a39a",
   "metadata": {},
   "source": [
    "# Chain: Fix Typos -> Group the obvious (extraction) -> Reformat into meaningful standardized format"
   ]
  },
  {
   "cell_type": "markdown",
   "id": "96229915-1415-4978-afe4-02fe71afc969",
   "metadata": {},
   "source": [
    "## Fix Typos"
   ]
  },
  {
   "cell_type": "code",
   "execution_count": 12,
   "id": "28f01879-f99f-40b7-b800-a0b8036c82a0",
   "metadata": {},
   "outputs": [
    {
     "ename": "SyntaxError",
     "evalue": "unterminated string literal (detected at line 20) (1246795720.py, line 20)",
     "output_type": "error",
     "traceback": [
      "\u001b[0;36m  Cell \u001b[0;32mIn[12], line 20\u001b[0;36m\u001b[0m\n\u001b[0;31m    {\"}\u001b[0m\n\u001b[0m     ^\u001b[0m\n\u001b[0;31mSyntaxError\u001b[0m\u001b[0;31m:\u001b[0m unterminated string literal (detected at line 20)\n"
     ]
    }
   ],
   "source": [
    "# Given: list of strings that are unique, like with pd.unique()\n",
    "# Assume they are of a common case (upper or lower; doesn't really matter)\n",
    "import prompts.typofix as typofix\n",
    "\n",
    "\n",
    "# Incorporate Few-Shot Learning into prompt\n",
    "example_fewshot_prompt = ChatPromptTemplate.from_messages([\n",
    "    (\"human\", \"{input}\"),\n",
    "    (\"ai\", \"{output}\")\n",
    "])\n",
    "\n",
    "typofix_fewshot_examples = ChatIO.make_chat(typofix.FEW_SHOT_EXAMPLES, input_name=\"input\", output_name=\"output\")\n",
    "typofix_fewshot_prompt = FewShotChatMessagePromptTemplate(example_prompt=example_fewshot_prompt, examples=typofix_fewshot_examples)\n",
    "\n",
    "# Final Chat Prompt\n",
    "typofix_chat_prompt = ChatPromptTemplate.from_messages([\n",
    "    (\"system\", typofix.SYSPROMPT_TEMPLATE),\n",
    "    typofix_fewshot_prompt,\n",
    "    (\"human\", \"{input}\")\n",
    "])\n",
    "\n",
    "# Chain\n",
    "chain_typofixer = typofix_chat_prompt | ChatAnthropic()"
   ]
  },
  {
   "cell_type": "markdown",
   "id": "b2b3a23d-535b-4c4b-9512-3dbcf914cdaa",
   "metadata": {},
   "source": [
    "## Group the obvious (extraction/chunking)"
   ]
  },
  {
   "cell_type": "code",
   "execution_count": null,
   "id": "1396f66d-068b-4ca3-ac2a-e70a8dd26e12",
   "metadata": {},
   "outputs": [],
   "source": [
    "import prompts.chunker as chunker\n",
    "\n",
    "\n",
    "# Incorporate Few-Shot Learning into prompt\n",
    "example_fewshot_prompt = ChatPromptTemplate.from_messages([\n",
    "    (\"human\", \"{input}\"),\n",
    "    (\"ai\", \"{output}\")\n",
    "])\n",
    "\n",
    "chunker_fewshot_examples = ChatIO.make_chat(chunker.FEW_SHOT_EXAMPLES, input_name=\"input\", output_name=\"output\")\n",
    "chunker_fewshot_prompt = FewShotChatMessagePromptTemplate(example_prompt=example_fewshot_prompt, examples=chunker_fewshot_examples)\n",
    "\n",
    "# Final Chat Prompt\n",
    "chunker_chat_prompt = ChatPromptTemplate.from_messages([\n",
    "    (\"system\", chunker.SYSPROMPT_TEMPLATE),\n",
    "    chunker_fewshot_examples,\n",
    "    (\"human\", \"{input}\")\n",
    "])\n",
    "\n",
    "# Chain\n",
    "chain_chunker = chunker_chat_prompt | ChatAnthropic()"
   ]
  },
  {
   "cell_type": "markdown",
   "id": "0c304ad8-d565-4c93-9ad8-630296c06579",
   "metadata": {},
   "source": [
    "## Reformat into meaningful standardized format"
   ]
  },
  {
   "cell_type": "code",
   "execution_count": null,
   "id": "43b5a233-8dd3-4333-8e00-be7bc1714871",
   "metadata": {},
   "outputs": [],
   "source": [
    "import prompts.standardizer as stdzer\n",
    "\n",
    "\n",
    "# Does this even need an LLM?\n",
    "# I'm thinking that we could manually decide this one based on a set of rules, then tokenize and RegEx it\n",
    "# "
   ]
  },
  {
   "cell_type": "markdown",
   "id": "953c1f8a-979c-4a7c-b956-5b102361ba69",
   "metadata": {},
   "source": [
    "## Putting it all together"
   ]
  },
  {
   "cell_type": "code",
   "execution_count": 5,
   "id": "3b9f66fc-567d-472a-b0a8-243d096d335b",
   "metadata": {},
   "outputs": [
    {
     "name": "stdout",
     "output_type": "stream",
     "text": [
      "\n"
     ]
    }
   ],
   "source": [
    "# Data Cleaning Chain!\n",
    "\n",
    "#data_cleaner_chain = chain_typofixer | chain_chunker | chain_formatter\n",
    "data_cleaner_chain = chain_typofixer | chain_chunker\n",
    "\n",
    "#data_cleaner_chain.invoke({\"input\": \"\"})"
   ]
  },
  {
   "cell_type": "code",
   "execution_count": null,
   "id": "e9dc2cca-0426-4072-ba9a-82b7b4036f4f",
   "metadata": {},
   "outputs": [],
   "source": []
  }
 ],
 "metadata": {
  "kernelspec": {
   "display_name": "Python 3 (ipykernel)",
   "language": "python",
   "name": "python3"
  },
  "language_info": {
   "codemirror_mode": {
    "name": "ipython",
    "version": 3
   },
   "file_extension": ".py",
   "mimetype": "text/x-python",
   "name": "python",
   "nbconvert_exporter": "python",
   "pygments_lexer": "ipython3",
   "version": "3.11.5"
  }
 },
 "nbformat": 4,
 "nbformat_minor": 5
}
