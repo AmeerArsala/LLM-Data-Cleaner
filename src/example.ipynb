{
 "cells": [
  {
   "cell_type": "code",
   "execution_count": 1,
   "id": "9ee7a91d-ad64-4c08-aac3-86a7ea413319",
   "metadata": {},
   "outputs": [],
   "source": [
    "# Imports\n",
    "import numpy as np\n",
    "import pandas as pd\n",
    "\n",
    "import langchain\n",
    "import torch\n",
    "\n",
    "import huggingface_hub"
   ]
  },
  {
   "cell_type": "code",
   "execution_count": 2,
   "id": "848a85a1-733e-464c-969b-0c109feb2c76",
   "metadata": {},
   "outputs": [],
   "source": [
    "import settings"
   ]
  },
  {
   "cell_type": "code",
   "execution_count": 3,
   "id": "37c296e2-3b5d-40af-bba0-297e0605f372",
   "metadata": {},
   "outputs": [
    {
     "data": {
      "text/plain": [
       "'0.0.298'"
      ]
     },
     "execution_count": 3,
     "metadata": {},
     "output_type": "execute_result"
    }
   ],
   "source": [
    "langchain.__version__"
   ]
  },
  {
   "cell_type": "code",
   "execution_count": 4,
   "id": "8ee867a5-fc94-469f-a877-d1b2d023f126",
   "metadata": {},
   "outputs": [],
   "source": [
    "# Read the example dataset\n",
    "df = pd.read_csv(\"example_data/example.csv\")"
   ]
  },
  {
   "cell_type": "code",
   "execution_count": 5,
   "id": "4c256a84-9a29-437f-8a5f-ebced9f7b001",
   "metadata": {},
   "outputs": [
    {
     "data": {
      "text/html": [
       "<div>\n",
       "<style scoped>\n",
       "    .dataframe tbody tr th:only-of-type {\n",
       "        vertical-align: middle;\n",
       "    }\n",
       "\n",
       "    .dataframe tbody tr th {\n",
       "        vertical-align: top;\n",
       "    }\n",
       "\n",
       "    .dataframe thead th {\n",
       "        text-align: right;\n",
       "    }\n",
       "</style>\n",
       "<table border=\"1\" class=\"dataframe\">\n",
       "  <thead>\n",
       "    <tr style=\"text-align: right;\">\n",
       "      <th></th>\n",
       "      <th>FixTypos</th>\n",
       "      <th>Chunk</th>\n",
       "    </tr>\n",
       "  </thead>\n",
       "  <tbody>\n",
       "    <tr>\n",
       "      <th>0</th>\n",
       "      <td>catt</td>\n",
       "      <td>jeep</td>\n",
       "    </tr>\n",
       "    <tr>\n",
       "      <th>1</th>\n",
       "      <td>hunter-</td>\n",
       "      <td>jeeping</td>\n",
       "    </tr>\n",
       "    <tr>\n",
       "      <th>2</th>\n",
       "      <td>huner</td>\n",
       "      <td>jeep, vehicle: 4wd</td>\n",
       "    </tr>\n",
       "    <tr>\n",
       "      <th>3</th>\n",
       "      <td>-alzheimer's patient</td>\n",
       "      <td>horseback</td>\n",
       "    </tr>\n",
       "    <tr>\n",
       "      <th>4</th>\n",
       "      <td>snowborder</td>\n",
       "      <td>horseback riding</td>\n",
       "    </tr>\n",
       "  </tbody>\n",
       "</table>\n",
       "</div>"
      ],
      "text/plain": [
       "               FixTypos               Chunk\n",
       "0                  catt                jeep\n",
       "1               hunter-             jeeping\n",
       "2                 huner  jeep, vehicle: 4wd\n",
       "3  -alzheimer's patient           horseback\n",
       "4            snowborder    horseback riding"
      ]
     },
     "execution_count": 5,
     "metadata": {},
     "output_type": "execute_result"
    }
   ],
   "source": [
    "# See if it loaded correctly\n",
    "df.head(5)"
   ]
  },
  {
   "cell_type": "code",
   "execution_count": 6,
   "id": "48d0fb69-c5ba-49c7-ba4b-669bbe77b97e",
   "metadata": {},
   "outputs": [
    {
     "data": {
      "text/plain": [
       "Index(['FixTypos', 'Chunk'], dtype='object')"
      ]
     },
     "execution_count": 6,
     "metadata": {},
     "output_type": "execute_result"
    }
   ],
   "source": [
    "# Ok, it loaded. Now let's check if the columns were read correctly\n",
    "df.columns"
   ]
  },
  {
   "cell_type": "code",
   "execution_count": 7,
   "id": "64097259-5d5d-4ae9-9b7b-0024f5fc491e",
   "metadata": {},
   "outputs": [
    {
     "data": {
      "text/plain": [
       "array(['catt', 'hunter-', 'huner', \"-alzheimer's patient\", 'snowborder',\n",
       "       'snowboarder', 'missing person', 'other-camper', 'bicylist',\n",
       "       'dog_', 'aircraft   e-', 'flood***victimss'], dtype=object)"
      ]
     },
     "execution_count": 7,
     "metadata": {},
     "output_type": "execute_result"
    }
   ],
   "source": [
    "df[\"FixTypos\"].unique()"
   ]
  },
  {
   "cell_type": "code",
   "execution_count": 8,
   "id": "70394bb0-c3b8-46ae-bbbb-dce276d274f2",
   "metadata": {},
   "outputs": [],
   "source": [
    "# these instruct-likes are more about text completion rather than responding to inputs\n",
    "# they only produce desirable behavior when inference is NOT done in batches but instead is done throughout the entire list \n",
    "instruct_like = [  \n",
    "    \"HuggingFaceH4/zephyr-7b-beta\",\n",
    "    \"tiiuae/falcon-7b-instruct\",\n",
    "    \"mistralai/Mistral-7B-Instruct-v0.1\",\n",
    "    \"mistralai/Mistral-7B-v0.1\",\n",
    "    \"declare-lab/flan-alpaca-large\",\n",
    "    \"bigcode/starcoder\",\n",
    "    \"bigscience/bloom\"\n",
    "]\n",
    "\n",
    "timeouts = [\n",
    "    \"01-ai/Yi-34B\",\n",
    "    \"01-ai/Yi-6B\",\n",
    "    \"openchat/openchat_3.5\"\n",
    "]\n",
    "\n",
    "exihibits_somewhat_desired_behavior = [\n",
    "    \"google/flan-t5-xxl\"\n",
    "]"
   ]
  },
  {
   "cell_type": "code",
   "execution_count": 8,
   "id": "1d49d926-451a-46e1-8051-f5e5573d7ea3",
   "metadata": {},
   "outputs": [
    {
     "name": "stderr",
     "output_type": "stream",
     "text": [
      "/home/monos/micromamba/envs/langchain_env/lib/python3.11/site-packages/huggingface_hub/utils/_deprecation.py:127: FutureWarning: '__init__' (from 'huggingface_hub.inference_api') is deprecated and will be removed from version '0.19.0'. `InferenceApi` client is deprecated in favor of the more feature-complete `InferenceClient`. Check out this guide to learn how to convert your script to use it: https://huggingface.co/docs/huggingface_hub/guides/inference#legacy-inferenceapi-client.\n",
      "  warnings.warn(warning_message, FutureWarning)\n"
     ]
    }
   ],
   "source": [
    "# Nodes\n",
    "from prompt_tuning import PromptTuner\n",
    "from prompts import typofix, chunker\n",
    "\n",
    "# Models\n",
    "from langchain.llms import HuggingFaceHub\n",
    "from ml_models.apis import HUGGINGFACE_APIs as HF\n",
    "from ml_models.models import HuggingFaceLLM # somewhat deprecated\n",
    "\n",
    "#typofix_ptuner = PromptTuner(HuggingFaceLLM(api=HF.Falcon_7b_Instruct), typofix.FEW_SHOT_PROMPT)\n",
    "#chunker_ptuner = PromptTuner(HuggingFaceLLM(api=HF.Falcon_7b_Instruct), chunker.FEW_SHOT_PROMPT)\n",
    "default_kwargs = {\"temperature\": 0.5, \"max_length\": 500}  # 0.0 = most determinstic, 1.0 = most stochastic \n",
    "\n",
    "\n",
    "#typofix_ptuner = PromptTuner(HuggingFaceHub(repo_id=\"google/flan-t5-xxl\", model_kwargs=default_kwargs), typofix.FEW_SHOT_PROMPT)\n",
    "typofix_ptuner = PromptTuner(HuggingFaceHub(repo_id=\"tiiuae/falcon-7b-instruct\", model_kwargs=default_kwargs), typofix.FEW_SHOT_PROMPT)\n",
    "chunker_ptuner = PromptTuner(HuggingFaceHub(repo_id=\"tiiuae/falcon-7b-instruct\", model_kwargs=default_kwargs), chunker.FEW_SHOT_PROMPT)"
   ]
  },
  {
   "cell_type": "code",
   "execution_count": 9,
   "id": "cc58cfc8-cb85-4207-b131-83fc7d171ed4",
   "metadata": {},
   "outputs": [],
   "source": [
    "from chains import ChatChain\n",
    "\n",
    "# Putting it all together\n",
    "chain = typofix_ptuner.chain | chunker_ptuner.chain\n",
    "final_chain = ChatChain(chain)  # for production"
   ]
  },
  {
   "cell_type": "code",
   "execution_count": 11,
   "id": "f200ff5b-8699-4aad-b28c-264f439508b8",
   "metadata": {},
   "outputs": [
    {
     "name": "stdout",
     "output_type": "stream",
     "text": [
      "\n",
      "AI: After:\n",
      "[\n",
      "`cat`\n",
      "`hunter`\n",
      "`hunter`\n",
      "`alzheimer's patient`\n",
      "`snowborder`\n",
      "`snowboarder`\n",
      "`missing person`\n",
      "`bicyclist`\n",
      "`dog`\n",
      "`aircraft`\n",
      "`flood victimss`\n",
      "]\n",
      "User \n"
     ]
    }
   ],
   "source": [
    "import data_cleaning as dcl\n",
    "\n",
    "# Time to try!\n",
    "#df_cleaned = dcl.clean_column(typofix_ptuner, df, \"FixTypos\")\n",
    "#dcl.inference_clean(typofix_ptuner, df[\"FixTypos\"].unique(), batch_size=3)\n",
    "print(dcl.safe_chain_inference(typofix_ptuner, df[\"FixTypos\"].unique()))\n",
    "#dcl.raw_chain_inference(typofix_ptuner, ['flood***victimss', 'catt', 'hunter-'])\n",
    "\n",
    "# Next test: Test on a validation set\n",
    "# Next step: validator for spellchecking"
   ]
  },
  {
   "cell_type": "code",
   "execution_count": 14,
   "id": "bacc0095-25d3-4e2d-bc8d-deca93803192",
   "metadata": {},
   "outputs": [
    {
     "data": {
      "text/plain": [
       "'`cat`\\n`hunter`\\n`hunter`\\n`'"
      ]
     },
     "execution_count": 14,
     "metadata": {},
     "output_type": "execute_result"
    }
   ],
   "source": [
    "dcl.safe_chain_inference(typofix_ptuner, df[\"FixTypos\"].unique())"
   ]
  },
  {
   "cell_type": "code",
   "execution_count": 19,
   "id": "1f076918-4b5a-468c-8d94-fb559ffa64d9",
   "metadata": {},
   "outputs": [
    {
     "data": {
      "text/plain": [
       "31"
      ]
     },
     "execution_count": 19,
     "metadata": {},
     "output_type": "execute_result"
    }
   ],
   "source": [
    "len(' \\nAI: `cat`\\n`hunter`\\n`hunter`\\n`')"
   ]
  },
  {
   "cell_type": "code",
   "execution_count": null,
   "id": "86965ab3-4eee-4f1d-9fed-e14252cb7e7b",
   "metadata": {},
   "outputs": [],
   "source": []
  }
 ],
 "metadata": {
  "kernelspec": {
   "display_name": "Python 3 (ipykernel)",
   "language": "python",
   "name": "python3"
  },
  "language_info": {
   "codemirror_mode": {
    "name": "ipython",
    "version": 3
   },
   "file_extension": ".py",
   "mimetype": "text/x-python",
   "name": "python",
   "nbconvert_exporter": "python",
   "pygments_lexer": "ipython3",
   "version": "3.11.5"
  }
 },
 "nbformat": 4,
 "nbformat_minor": 5
}
